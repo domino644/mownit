{
 "cells": [
  {
   "cell_type": "code",
   "execution_count": 5,
   "metadata": {},
   "outputs": [],
   "source": [
    "import numpy as np\n",
    "import matplotlib.pyplot as plt"
   ]
  },
  {
   "cell_type": "code",
   "execution_count": 6,
   "metadata": {},
   "outputs": [],
   "source": [
    "data = np.loadtxt(\"data.csv\", delimiter=\";\", dtype=int)"
   ]
  },
  {
   "cell_type": "code",
   "execution_count": 25,
   "metadata": {},
   "outputs": [
    {
     "data": {
      "text/plain": [
       "1920"
      ]
     },
     "execution_count": 25,
     "metadata": {},
     "output_type": "execute_result"
    }
   ],
   "source": [
    "years = data[:, 0]\n",
    "population = data[:, 1]"
   ]
  },
  {
   "cell_type": "code",
   "execution_count": 97,
   "metadata": {},
   "outputs": [],
   "source": [
    "def poly1(t, j):\n",
    "    return np.power(years[t],j, dtype=np.double)\n",
    "\n",
    "def poly2(t,j):\n",
    "    return np.power(years[t]-1900, j, dtype=np.double)\n",
    "\n",
    "def poly3(t,j):\n",
    "    return np.power(years[t]-1940,j, dtype=np.double)\n",
    "\n",
    "def poly4(t,j):\n",
    "    return np.power((years[t]-1940)/40,j, dtype=np.double)"
   ]
  },
  {
   "cell_type": "code",
   "execution_count": 98,
   "metadata": {},
   "outputs": [],
   "source": [
    "matrix1 = np.fromfunction(poly1, (9,9), dtype=int)\n",
    "matrix2 = np.fromfunction(poly2, (9,9), dtype=int)\n",
    "matrix3 = np.fromfunction(poly3, (9,9), dtype=int)\n",
    "matrix4 = np.fromfunction(poly4, (9,9), dtype=int)"
   ]
  },
  {
   "cell_type": "code",
   "execution_count": 99,
   "metadata": {},
   "outputs": [],
   "source": [
    "cond_matrix1 = np.linalg.cond(matrix1)\n",
    "cond_matrix2 = np.linalg.cond(matrix2)\n",
    "cond_matrix3 = np.linalg.cond(matrix3)\n",
    "cond_matrix4 = np.linalg.cond(matrix4)\n"
   ]
  },
  {
   "cell_type": "code",
   "execution_count": 100,
   "metadata": {},
   "outputs": [
    {
     "name": "stdout",
     "output_type": "stream",
     "text": [
      "4.428066803622041e+37\n",
      "6211148482504961.0\n",
      "9315536040586.037\n",
      "1605.4437004786669\n"
     ]
    }
   ],
   "source": [
    "print(cond_matrix1)\n",
    "print(cond_matrix2)\n",
    "print(cond_matrix3)\n",
    "print(cond_matrix4)"
   ]
  },
  {
   "cell_type": "code",
   "execution_count": 101,
   "metadata": {},
   "outputs": [],
   "source": [
    "interpolation_factors = np.linalg.solve(matrix4, population.reshape(-1,1))"
   ]
  },
  {
   "cell_type": "code",
   "execution_count": 102,
   "metadata": {},
   "outputs": [
    {
     "data": {
      "text/plain": [
       "array([[ 1.32164569e+08],\n",
       "       [ 4.61307656e+07],\n",
       "       [ 1.02716315e+08],\n",
       "       [ 1.82527130e+08],\n",
       "       [-3.74614715e+08],\n",
       "       [-3.42668456e+08],\n",
       "       [ 6.06291250e+08],\n",
       "       [ 1.89175576e+08],\n",
       "       [-3.15180235e+08]])"
      ]
     },
     "execution_count": 102,
     "metadata": {},
     "output_type": "execute_result"
    }
   ],
   "source": [
    "interpolation_factors"
   ]
  },
  {
   "cell_type": "code",
   "execution_count": 103,
   "metadata": {},
   "outputs": [],
   "source": [
    "xs = np.arange(1900,1991,1)\n",
    "ys = np.polyval(interpolation_factors, xs)"
   ]
  }
 ],
 "metadata": {
  "kernelspec": {
   "display_name": "Python 3",
   "language": "python",
   "name": "python3"
  },
  "language_info": {
   "codemirror_mode": {
    "name": "ipython",
    "version": 3
   },
   "file_extension": ".py",
   "mimetype": "text/x-python",
   "name": "python",
   "nbconvert_exporter": "python",
   "pygments_lexer": "ipython3",
   "version": "3.11.5"
  }
 },
 "nbformat": 4,
 "nbformat_minor": 2
}
