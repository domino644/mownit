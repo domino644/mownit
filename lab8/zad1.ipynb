{
 "cells": [
  {
   "cell_type": "code",
   "execution_count": 11,
   "metadata": {},
   "outputs": [],
   "source": [
    "import numpy as np\n",
    "import scipy "
   ]
  },
  {
   "cell_type": "code",
   "execution_count": 12,
   "metadata": {},
   "outputs": [],
   "source": [
    "def f1(x):\n",
    "    return x**3 - 5*x\n",
    "def f1_prime(x):\n",
    "    return 3*x**2 - 5\n",
    "def f2(x):\n",
    "    return x**3 - 3*x + 1\n",
    "def f2_prime(x):\n",
    "    return 3*x**2 - 3\n",
    "def f3(x):\n",
    "    return 2 - x**5\n",
    "def f3_prime(x):\n",
    "    return -5*x**4\n",
    "def f4(x):\n",
    "    return x**4 - 4.29 * x ** 2 - 5.29\n",
    "def f4_prime(x):\n",
    "    return 4*x**3 - 8.58 * x"
   ]
  },
  {
   "cell_type": "code",
   "execution_count": 13,
   "metadata": {},
   "outputs": [
    {
     "name": "stdout",
     "output_type": "stream",
     "text": [
      "Wynik pochodnej:  -2\n",
      "Pierwiastek z funkcji scipy.optimize.root:  [0.]\n",
      "Pierwiastek z funkcji scipy.optimize.newton:  4.744493466790075e-24\n"
     ]
    }
   ],
   "source": [
    "print(\"Wynik pochodnej: \", f1_prime(1))\n",
    "print(\"Pierwiastek z funkcji scipy.optimize.root: \", scipy.optimize.root(f1, 1).x)\n",
    "print(\"Pierwiastek z funkcji scipy.optimize.newton: \", scipy.optimize.newton(f1, 1))"
   ]
  },
  {
   "cell_type": "code",
   "execution_count": 14,
   "metadata": {},
   "outputs": [
    {
     "name": "stdout",
     "output_type": "stream",
     "text": [
      "Wynik pochodnej:  0\n",
      "Pierwiastek z funkcji scipy.optimize.root:  [1.0015534]\n",
      "Pierwiastek z funkcji scipy.optimize.newton:  1.0000007188230098\n"
     ]
    }
   ],
   "source": [
    "# Bledem w tym przypadku jest to ze pochodna funkcji f2_prime(1) jest rowna 0\n",
    "print(\"Wynik pochodnej: \", f2_prime(1))\n",
    "print(\"Pierwiastek z funkcji scipy.optimize.root: \", scipy.optimize.root(f2, 1).x)\n",
    "print(\"Pierwiastek z funkcji scipy.optimize.newton: \", scipy.optimize.newton(f2, 1))\n",
    "\n"
   ]
  },
  {
   "cell_type": "code",
   "execution_count": 17,
   "metadata": {},
   "outputs": [
    {
     "name": "stdout",
     "output_type": "stream",
     "text": [
      "Wynik pochodnej:  -5e-08\n",
      "Pierwiastek z funkcji scipy.optimize.root:  [1.14869835]\n",
      "Pierwiastek z funkcji scipy.optimize.newton:  0.01\n"
     ]
    }
   ],
   "source": [
    "print(\"Wynik pochodnej: \", f3_prime(0.01))\n",
    "print(\"Pierwiastek z funkcji scipy.optimize.root: \", scipy.optimize.root(f3, 0.01).x)\n",
    "print(\"Pierwiastek z funkcji scipy.optimize.newton: \", scipy.optimize.newton(f3, 0.01))"
   ]
  },
  {
   "cell_type": "code",
   "execution_count": 16,
   "metadata": {},
   "outputs": [
    {
     "name": "stdout",
     "output_type": "stream",
     "text": [
      "-4.816000000000001\n",
      "[0.00207867]\n"
     ]
    },
    {
     "data": {
      "text/plain": [
       "-0.7870232540616441"
      ]
     },
     "execution_count": 16,
     "metadata": {},
     "output_type": "execute_result"
    }
   ],
   "source": [
    "print(f4_prime(0.8))\n",
    "print(scipy.optimize.root(f4, 0.8).x)\n",
    "scipy.optimize.newton(f4, 0.8)"
   ]
  },
  {
   "cell_type": "code",
   "execution_count": 19,
   "metadata": {},
   "outputs": [
    {
     "name": "stdout",
     "output_type": "stream",
     "text": [
      "Wynik pochodnej:  -4.816000000000001\n",
      "Pierwiastek z funkcji scipy.optimize.root:  [0.00207867]\n",
      "Pierwiastek z funkcji scipy.optimize.newton:  -0.7870232540616441\n"
     ]
    }
   ],
   "source": [
    "print(\"Wynik pochodnej: \", f4_prime(0.8))\n",
    "print(\"Pierwiastek z funkcji scipy.optimize.root: \", scipy.optimize.root(f4, 0.8).x)\n",
    "print(\"Pierwiastek z funkcji scipy.optimize.newton: \", scipy.optimize.newton(f4, 0.8))"
   ]
  }
 ],
 "metadata": {
  "kernelspec": {
   "display_name": "Python 3",
   "language": "python",
   "name": "python3"
  },
  "language_info": {
   "codemirror_mode": {
    "name": "ipython",
    "version": 3
   },
   "file_extension": ".py",
   "mimetype": "text/x-python",
   "name": "python",
   "nbconvert_exporter": "python",
   "pygments_lexer": "ipython3",
   "version": "3.10.4"
  }
 },
 "nbformat": 4,
 "nbformat_minor": 2
}
