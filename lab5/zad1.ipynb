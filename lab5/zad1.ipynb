{
 "cells": [
  {
   "cell_type": "code",
   "execution_count": 1,
   "metadata": {},
   "outputs": [],
   "source": [
    "import numpy as np\n",
    "import matplotlib.pyplot as plt"
   ]
  },
  {
   "cell_type": "code",
   "execution_count": 6,
   "metadata": {},
   "outputs": [],
   "source": [
    "data = np.loadtxt(\"data.csv\", delimiter=\";\", dtype=int)\n",
    "years = data[:, 0]\n",
    "population = data[:, 1]"
   ]
  },
  {
   "cell_type": "code",
   "execution_count": 7,
   "metadata": {},
   "outputs": [
    {
     "data": {
      "text/plain": [
       "array([0, 1, 2, 3, 4, 5, 6])"
      ]
     },
     "execution_count": 7,
     "metadata": {},
     "output_type": "execute_result"
    }
   ],
   "source": [
    "degrees = np.arange(0, 7)"
   ]
  },
  {
   "cell_type": "code",
   "execution_count": 8,
   "metadata": {},
   "outputs": [],
   "source": [
    "def S(x, k):\n",
    "    return np.sum(x**k)"
   ]
  },
  {
   "cell_type": "code",
   "execution_count": 11,
   "metadata": {},
   "outputs": [],
   "source": [
    "def T(x, y, k):\n",
    "    return np.sum(x**k * y)"
   ]
  },
  {
   "cell_type": "code",
   "execution_count": 15,
   "metadata": {},
   "outputs": [
    {
     "name": "stdout",
     "output_type": "stream",
     "text": [
      "[[1.43369177e+08]]\n",
      "[[-3.50101274e+09  1.87771330e+06]]\n",
      "[[-1.68002258e+12  1.09301029e+12 -3.50264433e+11]]\n",
      "[[-6.26808732e+17  2.16050574e+17 -1.21512541e+18 -1.24351377e+18]]\n",
      "[[ 3.16914564e+19 -6.59289640e+19 -4.66723963e+18 -4.46745870e+19\n",
      "  -1.78264763e+18]]\n",
      "[[-4.86475160e+19 -3.26508775e+19 -4.70636002e+19 -2.70409302e+19\n",
      "  -6.53079029e+18  6.63626147e+18]]\n",
      "[[ 4.48501837e+19  1.14582383e+20  1.74980201e+20  1.29484770e+20\n",
      "   1.75672989e+20 -2.15211227e+20 -6.64844837e+19]]\n"
     ]
    }
   ],
   "source": [
    "for m in degrees:\n",
    "    A = []\n",
    "    y = []\n",
    "    for n in range(m+1):\n",
    "        tmp = []\n",
    "        y.append(T(years, population, n))\n",
    "        for k in range(n, m+n+1):\n",
    "            tmp.append(S(years, k))\n",
    "        A.append(tmp)\n",
    "    A = np.matrix(A)\n",
    "    y = np.array(y)\n",
    "    c = np.linalg.inv(A.T@A)@A.T@y"
   ]
  },
  {
   "cell_type": "code",
   "execution_count": null,
   "metadata": {},
   "outputs": [],
   "source": []
  }
 ],
 "metadata": {
  "kernelspec": {
   "display_name": "Python 3",
   "language": "python",
   "name": "python3"
  },
  "language_info": {
   "codemirror_mode": {
    "name": "ipython",
    "version": 3
   },
   "file_extension": ".py",
   "mimetype": "text/x-python",
   "name": "python",
   "nbconvert_exporter": "python",
   "pygments_lexer": "ipython3",
   "version": "3.11.5"
  }
 },
 "nbformat": 4,
 "nbformat_minor": 2
}
