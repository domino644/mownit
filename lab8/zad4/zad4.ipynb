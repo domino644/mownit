{
 "cells": [
  {
   "cell_type": "code",
   "execution_count": 14,
   "metadata": {},
   "outputs": [],
   "source": [
    "import numpy as np\n",
    "import matplotlib.pyplot as plt\n",
    "import pandas as pd"
   ]
  },
  {
   "cell_type": "code",
   "execution_count": 15,
   "metadata": {},
   "outputs": [],
   "source": [
    "exact_values = np.array([np.sqrt(np.sqrt(5)/2-.5), np.sqrt(5)/2-.5])"
   ]
  },
  {
   "cell_type": "code",
   "execution_count": 16,
   "metadata": {},
   "outputs": [],
   "source": [
    "relative_error = []\n",
    "iterations = []"
   ]
  },
  {
   "cell_type": "code",
   "execution_count": 17,
   "metadata": {},
   "outputs": [
    {
     "name": "stdout",
     "output_type": "stream",
     "text": [
      "Solution: [0.78615138 0.61803399]\n",
      "[array([6.00163746, 7.86893258]), array([0.24726285, 0.16400883]), array([3.41988673e-04, 7.42793755e-05]), array([5.92400354e-10, 1.52332904e-11]), array([0.00000000e+00, 1.79637859e-14]), array([0.00000000e+00, 1.79637859e-14]), array([0.00000000e+00, 1.79637859e-14]), array([0.00000000e+00, 1.79637859e-14]), array([0.00000000e+00, 1.79637859e-14]), array([0.00000000e+00, 1.79637859e-14])]\n",
      "[array([0.83333333, 0.66666667]), array([0.78809524, 0.61904762]), array([0.78615407, 0.61803445]), array([0.78615138, 0.61803399]), array([0.78615138, 0.61803399]), array([0.78615138, 0.61803399]), array([0.78615138, 0.61803399]), array([0.78615138, 0.61803399]), array([0.78615138, 0.61803399]), array([0.78615138, 0.61803399])]\n"
     ]
    }
   ],
   "source": [
    "\n",
    "def equations(vars):\n",
    "\tx, y = vars\n",
    "\teq1 = x**2 + y**2 - 1\n",
    "\teq2 = x**2 - y\n",
    "\treturn np.array([eq1, eq2])\n",
    "\n",
    "def newton_method(initial_guess, tolerance=1e-6, max_iter=10):\n",
    "\tvars = np.array(initial_guess, dtype=float)\n",
    "\tfor _ in range(max_iter):\n",
    "\t\tJ = np.array([[2 * vars[0], 2 * vars[1]], [2 * vars[0], -1]])\n",
    "\t\tF = equations(vars)\n",
    "\t\tdelta = np.linalg.solve(J, -F)\n",
    "\t\tvars += delta\n",
    "\t\titerations.append(vars.copy())\n",
    "\t\trelative_error.append((np.abs(exact_values-vars)/exact_values)*100)\n",
    "\treturn vars\n",
    "\n",
    "initial_guess = [1, 1]\n",
    "solution = newton_method(initial_guess)\n",
    "print(\"Solution:\", solution)\n",
    "print(relative_error)\n",
    "print(iterations)"
   ]
  },
  {
   "cell_type": "code",
   "execution_count": 18,
   "metadata": {},
   "outputs": [
    {
     "data": {
      "text/html": [
       "<div>\n",
       "<style scoped>\n",
       "    .dataframe tbody tr th:only-of-type {\n",
       "        vertical-align: middle;\n",
       "    }\n",
       "\n",
       "    .dataframe tbody tr th {\n",
       "        vertical-align: top;\n",
       "    }\n",
       "\n",
       "    .dataframe thead th {\n",
       "        text-align: right;\n",
       "    }\n",
       "</style>\n",
       "<table border=\"1\" class=\"dataframe\">\n",
       "  <thead>\n",
       "    <tr style=\"text-align: right;\">\n",
       "      <th></th>\n",
       "      <th>x_1</th>\n",
       "      <th>x_2</th>\n",
       "    </tr>\n",
       "  </thead>\n",
       "  <tbody>\n",
       "    <tr>\n",
       "      <th>0</th>\n",
       "      <td>6.001637e+00</td>\n",
       "      <td>7.868933e+00</td>\n",
       "    </tr>\n",
       "    <tr>\n",
       "      <th>1</th>\n",
       "      <td>2.472629e-01</td>\n",
       "      <td>1.640088e-01</td>\n",
       "    </tr>\n",
       "    <tr>\n",
       "      <th>2</th>\n",
       "      <td>3.419887e-04</td>\n",
       "      <td>7.427938e-05</td>\n",
       "    </tr>\n",
       "    <tr>\n",
       "      <th>3</th>\n",
       "      <td>5.924004e-10</td>\n",
       "      <td>1.523329e-11</td>\n",
       "    </tr>\n",
       "    <tr>\n",
       "      <th>4</th>\n",
       "      <td>0.000000e+00</td>\n",
       "      <td>1.796379e-14</td>\n",
       "    </tr>\n",
       "    <tr>\n",
       "      <th>5</th>\n",
       "      <td>0.000000e+00</td>\n",
       "      <td>1.796379e-14</td>\n",
       "    </tr>\n",
       "    <tr>\n",
       "      <th>6</th>\n",
       "      <td>0.000000e+00</td>\n",
       "      <td>1.796379e-14</td>\n",
       "    </tr>\n",
       "    <tr>\n",
       "      <th>7</th>\n",
       "      <td>0.000000e+00</td>\n",
       "      <td>1.796379e-14</td>\n",
       "    </tr>\n",
       "    <tr>\n",
       "      <th>8</th>\n",
       "      <td>0.000000e+00</td>\n",
       "      <td>1.796379e-14</td>\n",
       "    </tr>\n",
       "    <tr>\n",
       "      <th>9</th>\n",
       "      <td>0.000000e+00</td>\n",
       "      <td>1.796379e-14</td>\n",
       "    </tr>\n",
       "  </tbody>\n",
       "</table>\n",
       "</div>"
      ],
      "text/plain": [
       "            x_1           x_2\n",
       "0  6.001637e+00  7.868933e+00\n",
       "1  2.472629e-01  1.640088e-01\n",
       "2  3.419887e-04  7.427938e-05\n",
       "3  5.924004e-10  1.523329e-11\n",
       "4  0.000000e+00  1.796379e-14\n",
       "5  0.000000e+00  1.796379e-14\n",
       "6  0.000000e+00  1.796379e-14\n",
       "7  0.000000e+00  1.796379e-14\n",
       "8  0.000000e+00  1.796379e-14\n",
       "9  0.000000e+00  1.796379e-14"
      ]
     },
     "execution_count": 18,
     "metadata": {},
     "output_type": "execute_result"
    }
   ],
   "source": [
    "relative_error_df = pd.DataFrame(relative_error, columns=[\"x_1\",\"x_2\"])\n",
    "relative_error_df"
   ]
  },
  {
   "cell_type": "code",
   "execution_count": 19,
   "metadata": {},
   "outputs": [],
   "source": [
    "relative_error_df.to_csv(\"relative_error.csv\")"
   ]
  },
  {
   "cell_type": "code",
   "execution_count": 20,
   "metadata": {},
   "outputs": [
    {
     "data": {
      "text/html": [
       "<div>\n",
       "<style scoped>\n",
       "    .dataframe tbody tr th:only-of-type {\n",
       "        vertical-align: middle;\n",
       "    }\n",
       "\n",
       "    .dataframe tbody tr th {\n",
       "        vertical-align: top;\n",
       "    }\n",
       "\n",
       "    .dataframe thead th {\n",
       "        text-align: right;\n",
       "    }\n",
       "</style>\n",
       "<table border=\"1\" class=\"dataframe\">\n",
       "  <thead>\n",
       "    <tr style=\"text-align: right;\">\n",
       "      <th></th>\n",
       "      <th>x_1</th>\n",
       "      <th>x_2</th>\n",
       "    </tr>\n",
       "  </thead>\n",
       "  <tbody>\n",
       "    <tr>\n",
       "      <th>0</th>\n",
       "      <td>0.833333</td>\n",
       "      <td>0.666667</td>\n",
       "    </tr>\n",
       "    <tr>\n",
       "      <th>1</th>\n",
       "      <td>0.788095</td>\n",
       "      <td>0.619048</td>\n",
       "    </tr>\n",
       "    <tr>\n",
       "      <th>2</th>\n",
       "      <td>0.786154</td>\n",
       "      <td>0.618034</td>\n",
       "    </tr>\n",
       "    <tr>\n",
       "      <th>3</th>\n",
       "      <td>0.786151</td>\n",
       "      <td>0.618034</td>\n",
       "    </tr>\n",
       "    <tr>\n",
       "      <th>4</th>\n",
       "      <td>0.786151</td>\n",
       "      <td>0.618034</td>\n",
       "    </tr>\n",
       "    <tr>\n",
       "      <th>5</th>\n",
       "      <td>0.786151</td>\n",
       "      <td>0.618034</td>\n",
       "    </tr>\n",
       "    <tr>\n",
       "      <th>6</th>\n",
       "      <td>0.786151</td>\n",
       "      <td>0.618034</td>\n",
       "    </tr>\n",
       "    <tr>\n",
       "      <th>7</th>\n",
       "      <td>0.786151</td>\n",
       "      <td>0.618034</td>\n",
       "    </tr>\n",
       "    <tr>\n",
       "      <th>8</th>\n",
       "      <td>0.786151</td>\n",
       "      <td>0.618034</td>\n",
       "    </tr>\n",
       "    <tr>\n",
       "      <th>9</th>\n",
       "      <td>0.786151</td>\n",
       "      <td>0.618034</td>\n",
       "    </tr>\n",
       "  </tbody>\n",
       "</table>\n",
       "</div>"
      ],
      "text/plain": [
       "        x_1       x_2\n",
       "0  0.833333  0.666667\n",
       "1  0.788095  0.619048\n",
       "2  0.786154  0.618034\n",
       "3  0.786151  0.618034\n",
       "4  0.786151  0.618034\n",
       "5  0.786151  0.618034\n",
       "6  0.786151  0.618034\n",
       "7  0.786151  0.618034\n",
       "8  0.786151  0.618034\n",
       "9  0.786151  0.618034"
      ]
     },
     "execution_count": 20,
     "metadata": {},
     "output_type": "execute_result"
    }
   ],
   "source": [
    "iterations_df = pd.DataFrame(iterations, columns=[\"x_1\", \"x_2\"])\n",
    "iterations_df"
   ]
  },
  {
   "cell_type": "code",
   "execution_count": 21,
   "metadata": {},
   "outputs": [],
   "source": [
    "iterations_df.to_csv(\"iterations.csv\")"
   ]
  },
  {
   "cell_type": "code",
   "execution_count": 22,
   "metadata": {},
   "outputs": [
    {
     "data": {
      "image/png": "[encoded data removed]",
      "text/plain": [
       "<Figure size 640x480 with 1 Axes>"
      ]
     },
     "metadata": {},
     "output_type": "display_data"
    }
   ],
   "source": [
    "plt.semilogy(np.arange(1,11), relative_error_df[\"x_1\"], label=\"x_1\")\n",
    "plt.semilogy(np.arange(1,11), relative_error_df[\"x_2\"], label=\"x_2\")\n",
    "plt.grid()\n",
    "plt.legend()\n",
    "plt.xlabel(\"Numer iteracji\")\n",
    "plt.ylabel(\"Błąd względny [%]\")\n",
    "plt.title(\"Błąd względny w zależności od numeru iteracji\")\n",
    "plt.show()"
   ]
  },
  {
   "cell_type": "code",
   "execution_count": null,
   "metadata": {},
   "outputs": [],
   "source": []
  }
 ],
 "metadata": {
  "kernelspec": {
   "display_name": "Python 3",
   "language": "python",
   "name": "python3"
  },
  "language_info": {
   "codemirror_mode": {
    "name": "ipython",
    "version": 3
   },
   "file_extension": ".py",
   "mimetype": "text/x-python",
   "name": "python",
   "nbconvert_exporter": "python",
   "pygments_lexer": "ipython3",
   "version": "3.11.5"
  }
 },
 "nbformat": 4,
 "nbformat_minor": 2
}
