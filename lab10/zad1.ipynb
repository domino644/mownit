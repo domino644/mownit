{
 "cells": [
  {
   "cell_type": "code",
   "execution_count": 3,
   "metadata": {},
   "outputs": [],
   "source": [
    "import torch\n",
    "import torch.nn as nn\n",
    "import numpy as np\n",
    "import matplotlib.pyplot as plt"
   ]
  },
  {
   "cell_type": "code",
   "execution_count": 5,
   "metadata": {},
   "outputs": [],
   "source": [
    "class Network(nn.Module):\n",
    "    def __init__(self, hidden_layers, hidden_layer_neurons):\n",
    "        super(Network, self).__init__()\n",
    "        self.layers = [nn.Linear(1,hidden_layer_neurons)]\n",
    "        for _ in range(hidden_layers):\n",
    "            self.layers.append(nn.Linear(hidden_layer_neurons, hidden_layer_neurons))\n",
    "        self.layers.append(nn.Linear(hidden_layer_neurons, 1))\n",
    "\n",
    "    def forward(self, x):\n",
    "        inputs = torch.cat([x],axis=1)\n",
    "        out_layers = [torch.sigmoid(self.layers[0](inputs))]\n",
    "        for i in range(1,len(self.layers)-1):\n",
    "            out_layers.append(torch.sigmoid(self.layers[i](out_layers[i-1])))\n",
    "        output = self.layers[-1](out_layers[-1])\n",
    "        return output\n",
    "\n"
   ]
  }
 ],
 "metadata": {
  "kernelspec": {
   "display_name": "Python 3",
   "language": "python",
   "name": "python3"
  },
  "language_info": {
   "codemirror_mode": {
    "name": "ipython",
    "version": 3
   },
   "file_extension": ".py",
   "mimetype": "text/x-python",
   "name": "python",
   "nbconvert_exporter": "python",
   "pygments_lexer": "ipython3",
   "version": "3.11.5"
  }
 },
 "nbformat": 4,
 "nbformat_minor": 2
}
